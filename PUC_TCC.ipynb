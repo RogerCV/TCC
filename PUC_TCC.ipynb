{
 "cells": [
  {
   "cell_type": "markdown",
   "metadata": {},
   "source": [
    "# PUC Minas - Trabalho de Conclusão de Curso"
   ]
  },
  {
   "cell_type": "markdown",
   "metadata": {},
   "source": [
    "## Machine Learning e a Integração de Dados Heterogêneos"
   ]
  },
  {
   "cell_type": "markdown",
   "metadata": {},
   "source": [
    "### Importando as bibliotecas necessárias (configuração do banco de dados não inclusa neste notebook)"
   ]
  },
  {
   "cell_type": "code",
   "execution_count": 1,
   "metadata": {},
   "outputs": [],
   "source": [
    "import copy\n",
    "import numbers\n",
    "import tensorflow\n",
    "import numpy as np\n",
    "import mysql.connector\n",
    "from decimal import Decimal\n",
    "from tensorflow import keras\n",
    "import matplotlib.pyplot as plt\n",
    "from mysql.connector import Error\n",
    "from random import randrange, randint, shuffle\n",
    "from sklearn.preprocessing import StandardScaler"
   ]
  },
  {
   "cell_type": "markdown",
   "metadata": {},
   "source": [
    "### Conectando ao banco de dados e extraindo dados para lista de trabalho interna"
   ]
  },
  {
   "cell_type": "code",
   "execution_count": 2,
   "metadata": {},
   "outputs": [
    {
     "name": "stdout",
     "output_type": "stream",
     "text": [
      "True\n",
      "Conecção Encerrada!\n"
     ]
    }
   ],
   "source": [
    "try:\n",
    "    connection = mysql.connector.connect(host='localhost', database='iss', user='root', password='roger', charset='utf8', use_unicode=True)\n",
    "    print(connection.is_connected())\n",
    "    cursor = connection.cursor()\n",
    "        \n",
    "    db_dados = list()\n",
    "    for tab_coletada in range(30):\n",
    "        cod_tabela = randint(1, 324)\n",
    "        tabela = 'iss_prefeitura_' + str('{0:03}'.format(cod_tabela))\n",
    "        \n",
    "        cursor.execute('desc ' + tabela)\n",
    "        table = cursor.fetchall()\n",
    "        data = list()\n",
    "        for k in table:\n",
    "            data.append([k[0], k[1].split('(')[0]])\n",
    "        \n",
    "        cursor.execute('select * from ' + tabela + ' where id <= 1000')\n",
    "        reg = cursor.fetchall()\n",
    "        index = 0\n",
    "        size = len(data)\n",
    "        for val in reg:\n",
    "            valores = copy.deepcopy(data)\n",
    "            for item in val:\n",
    "                if type(item) == Decimal:\n",
    "                    valores[index].append(float(item))\n",
    "                else:\n",
    "                    valores[index].append(item)\n",
    "                index += 1\n",
    "                if index == size:\n",
    "                    index = 0\n",
    "            db_dados.append(valores)\n",
    "\n",
    "except Error as erro:\n",
    "    print(\"Problemas de Conecção:\", erro)\n",
    "finally:\n",
    "    if (connection.is_connected()):\n",
    "        cursor.close()\n",
    "        connection.close()\n",
    "        print(\"Conecção Encerrada!\")"
   ]
  },
  {
   "cell_type": "markdown",
   "metadata": {},
   "source": [
    "### Verificando dados importados"
   ]
  },
  {
   "cell_type": "code",
   "execution_count": 3,
   "metadata": {},
   "outputs": [
    {
     "name": "stdout",
     "output_type": "stream",
     "text": [
      "30000\n",
      "<class 'list'>\n",
      "Primeiro Item: [['Id', 'int', 1], ['Item_Cosif', 'varchar', '10000000'], ['Base_anterior', 'double', 73267.03], ['Base_atual', 'decimal', 76930.38], ['Aliquota', 'decimal', 5.0], ['Tributavel', 'tinyint', 0], ['Total_recolhido', 'double', 3846.52]]\n"
     ]
    }
   ],
   "source": [
    "print(len(db_dados))\n",
    "print(type(db_dados))\n",
    "print(\"Primeiro Item:\", db_dados[0])"
   ]
  },
  {
   "cell_type": "markdown",
   "metadata": {},
   "source": [
    "### Extraindo os tipos dos dados coletados e as tags (rótulos) para a fase de treino posterior"
   ]
  },
  {
   "cell_type": "code",
   "execution_count": 4,
   "metadata": {},
   "outputs": [],
   "source": [
    "tipos = set()\n",
    "tags = set()\n",
    "for value in db_dados:\n",
    "    del value[0]\n",
    "    for reg in value:\n",
    "        tipos.add(reg[1])\n",
    "        tags.add(reg[0])\n",
    "tipos = list(tipos)\n",
    "tags = list(tags)"
   ]
  },
  {
   "cell_type": "markdown",
   "metadata": {},
   "source": [
    "### Analisando os tipos e tags extraídos"
   ]
  },
  {
   "cell_type": "code",
   "execution_count": 5,
   "metadata": {},
   "outputs": [
    {
     "name": "stdout",
     "output_type": "stream",
     "text": [
      "['varchar', 'float', 'char', 'tinyint', 'tinytext', 'double', 'decimal']\n",
      "['Base_anterior', 'Item_Cosif', 'Tributavel', 'Aliquota', 'Total_recolhido', 'Base_atual']\n"
     ]
    }
   ],
   "source": [
    "print(tipos)\n",
    "print(tags)"
   ]
  },
  {
   "cell_type": "markdown",
   "metadata": {},
   "source": [
    "### One Hot Encoding (OHE) sem uso de bibliotecas para melhor legibilidade"
   ]
  },
  {
   "cell_type": "code",
   "execution_count": 6,
   "metadata": {},
   "outputs": [],
   "source": [
    "for cat in tipos:\n",
    "    exec('cat_' + cat + ' = np.zeros(len(tipos))')\n",
    "    exec('cat_' + cat + '[tipos.index(cat)] = 1')\n",
    "    \n",
    "for cat in tags:\n",
    "    exec('tag_' + cat + ' = np.zeros(len(tags))')\n",
    "    exec('tag_' + cat + '[tags.index(cat)] = 1')"
   ]
  },
  {
   "cell_type": "markdown",
   "metadata": {},
   "source": [
    "### Analisando os vetores (OHE)"
   ]
  },
  {
   "cell_type": "code",
   "execution_count": 7,
   "metadata": {},
   "outputs": [
    {
     "name": "stdout",
     "output_type": "stream",
     "text": [
      "[1. 0. 0. 0. 0. 0. 0.] varchar\n",
      "[0. 1. 0. 0. 0. 0. 0.] float\n",
      "[0. 0. 1. 0. 0. 0. 0.] char\n",
      "[0. 0. 0. 1. 0. 0. 0.] tinyint\n",
      "[0. 0. 0. 0. 1. 0. 0.] tinytext\n",
      "[0. 0. 0. 0. 0. 1. 0.] double\n",
      "[0. 0. 0. 0. 0. 0. 1.] decimal\n"
     ]
    }
   ],
   "source": [
    "for k in tipos:\n",
    "    print(eval('cat_' + k), k)"
   ]
  },
  {
   "cell_type": "code",
   "execution_count": 8,
   "metadata": {},
   "outputs": [
    {
     "name": "stdout",
     "output_type": "stream",
     "text": [
      "[1. 0. 0. 0. 0. 0.] Base_anterior\n",
      "[0. 1. 0. 0. 0. 0.] Item_Cosif\n",
      "[0. 0. 1. 0. 0. 0.] Tributavel\n",
      "[0. 0. 0. 1. 0. 0.] Aliquota\n",
      "[0. 0. 0. 0. 1. 0.] Total_recolhido\n",
      "[0. 0. 0. 0. 0. 1.] Base_atual\n"
     ]
    }
   ],
   "source": [
    "for k in tags:\n",
    "    print(eval('tag_' + k), k)"
   ]
  },
  {
   "cell_type": "markdown",
   "metadata": {},
   "source": [
    "### Registros ordenados conforme tables do banco do dados"
   ]
  },
  {
   "cell_type": "code",
   "execution_count": 9,
   "metadata": {},
   "outputs": [
    {
     "data": {
      "text/plain": [
       "[['Item_Cosif', 'varchar', '10000000'],\n",
       " ['Base_anterior', 'double', 73267.03],\n",
       " ['Base_atual', 'decimal', 76930.38],\n",
       " ['Aliquota', 'decimal', 5.0],\n",
       " ['Tributavel', 'tinyint', 0],\n",
       " ['Total_recolhido', 'double', 3846.52]]"
      ]
     },
     "execution_count": 9,
     "metadata": {},
     "output_type": "execute_result"
    }
   ],
   "source": [
    "db_dados[0]"
   ]
  },
  {
   "cell_type": "markdown",
   "metadata": {},
   "source": [
    "### Função 'shuffle' para emular dados semiestruturados"
   ]
  },
  {
   "cell_type": "code",
   "execution_count": 10,
   "metadata": {},
   "outputs": [],
   "source": [
    "for reg in db_dados:\n",
    "    shuffle(reg)"
   ]
  },
  {
   "cell_type": "markdown",
   "metadata": {},
   "source": [
    "### Registros randomizados"
   ]
  },
  {
   "cell_type": "code",
   "execution_count": 11,
   "metadata": {},
   "outputs": [
    {
     "data": {
      "text/plain": [
       "[['Base_anterior', 'double', 73267.03],\n",
       " ['Item_Cosif', 'varchar', '10000000'],\n",
       " ['Tributavel', 'tinyint', 0],\n",
       " ['Base_atual', 'decimal', 76930.38],\n",
       " ['Aliquota', 'decimal', 5.0],\n",
       " ['Total_recolhido', 'double', 3846.52]]"
      ]
     },
     "execution_count": 11,
     "metadata": {},
     "output_type": "execute_result"
    }
   ],
   "source": [
    "db_dados[0]"
   ]
  },
  {
   "cell_type": "markdown",
   "metadata": {},
   "source": [
    "### Construindo vetores de 'input' - valor a ser rotulado, demais valores e OHE"
   ]
  },
  {
   "cell_type": "code",
   "execution_count": 12,
   "metadata": {},
   "outputs": [],
   "source": [
    "x = []\n",
    "y = []\n",
    "for reg in db_dados:\n",
    "    inp = []\n",
    "    for val in range(len(reg)):\n",
    "        if isinstance(reg[val][2], numbers.Number):\n",
    "            inp.append(float(reg[val][2]))\n",
    "        elif reg[val][2] == 'S':\n",
    "            inp.append(1.)\n",
    "        else:\n",
    "            inp.append(0.)\n",
    "    x.append(np.hstack((np.array([inp[0]]), inp[1:], eval('cat_' + reg[0][1]))))\n",
    "    y.append(eval('tag_' + reg[0][0]))\n",
    "x = np.array(x)\n",
    "y = np.array(y)"
   ]
  },
  {
   "cell_type": "markdown",
   "metadata": {},
   "source": [
    "### Normalizando os dados para melhor performance da fase de treino"
   ]
  },
  {
   "cell_type": "code",
   "execution_count": 13,
   "metadata": {},
   "outputs": [],
   "source": [
    "sc = StandardScaler()\n",
    "x = sc.fit_transform(x)"
   ]
  },
  {
   "cell_type": "markdown",
   "metadata": {},
   "source": [
    "### Visualizando primeiro vetor 'normalizado'"
   ]
  },
  {
   "cell_type": "code",
   "execution_count": 14,
   "metadata": {},
   "outputs": [
    {
     "data": {
      "text/plain": [
       "array([[ 1.9267361 , -0.5908623 , -0.58964479,  2.05609435, -0.58511969,\n",
       "        -0.45813864, -0.32675071, -0.48516113, -0.28556747, -0.31301128,\n",
       "        -0.27456229,  1.58029071, -0.48799031]])"
      ]
     },
     "execution_count": 14,
     "metadata": {},
     "output_type": "execute_result"
    }
   ],
   "source": [
    "x[:1]"
   ]
  },
  {
   "cell_type": "markdown",
   "metadata": {},
   "source": [
    "### Criando rede neural para processamento dos dados tratados anteriormente"
   ]
  },
  {
   "cell_type": "code",
   "execution_count": 15,
   "metadata": {},
   "outputs": [
    {
     "name": "stdout",
     "output_type": "stream",
     "text": [
      "WARNING:tensorflow:From C:\\Users\\Palm\\Anaconda3\\lib\\site-packages\\tensorflow_core\\python\\ops\\resource_variable_ops.py:1630: calling BaseResourceVariable.__init__ (from tensorflow.python.ops.resource_variable_ops) with constraint is deprecated and will be removed in a future version.\n",
      "Instructions for updating:\n",
      "If using Keras pass *_constraint arguments to layers.\n",
      "Train on 24000 samples, validate on 6000 samples\n",
      "Epoch 1/30\n",
      "24000/24000 [==============================] - 1s 39us/sample - loss: 0.6585 - acc: 0.6731 - val_loss: 0.5418 - val_acc: 0.6590\n",
      "Epoch 2/30\n",
      "24000/24000 [==============================] - 1s 36us/sample - loss: 0.4782 - acc: 0.7187 - val_loss: 0.5446 - val_acc: 0.6072\n",
      "Epoch 3/30\n",
      "24000/24000 [==============================] - 1s 35us/sample - loss: 0.4644 - acc: 0.7231 - val_loss: 0.5337 - val_acc: 0.6598\n",
      "Epoch 4/30\n",
      "24000/24000 [==============================] - 1s 34us/sample - loss: 0.4570 - acc: 0.7263 - val_loss: 0.5385 - val_acc: 0.6270\n",
      "Epoch 5/30\n",
      "24000/24000 [==============================] - 1s 34us/sample - loss: 0.4519 - acc: 0.7342 - val_loss: 0.5322 - val_acc: 0.6443\n",
      "Epoch 6/30\n",
      "24000/24000 [==============================] - 1s 39us/sample - loss: 0.4447 - acc: 0.7391 - val_loss: 0.5129 - val_acc: 0.6820\n",
      "Epoch 7/30\n",
      "24000/24000 [==============================] - 1s 39us/sample - loss: 0.4307 - acc: 0.7516 - val_loss: 0.4950 - val_acc: 0.7048\n",
      "Epoch 8/30\n",
      "24000/24000 [==============================] - 1s 37us/sample - loss: 0.4128 - acc: 0.7644 - val_loss: 0.4675 - val_acc: 0.7262\n",
      "Epoch 9/30\n",
      "24000/24000 [==============================] - 1s 35us/sample - loss: 0.3845 - acc: 0.7856 - val_loss: 0.4556 - val_acc: 0.7340\n",
      "Epoch 10/30\n",
      "24000/24000 [==============================] - 1s 37us/sample - loss: 0.3624 - acc: 0.7974 - val_loss: 0.3504 - val_acc: 0.7692\n",
      "Epoch 11/30\n",
      "24000/24000 [==============================] - 1s 37us/sample - loss: 0.3438 - acc: 0.8098 - val_loss: 0.3926 - val_acc: 0.7858\n",
      "Epoch 12/30\n",
      "24000/24000 [==============================] - 1s 37us/sample - loss: 0.3302 - acc: 0.8172 - val_loss: 0.3316 - val_acc: 0.8112\n",
      "Epoch 13/30\n",
      "24000/24000 [==============================] - 1s 38us/sample - loss: 0.3176 - acc: 0.8246 - val_loss: 0.3307 - val_acc: 0.8172\n",
      "Epoch 14/30\n",
      "24000/24000 [==============================] - 1s 39us/sample - loss: 0.3063 - acc: 0.8306 - val_loss: 0.3259 - val_acc: 0.8142\n",
      "Epoch 15/30\n",
      "24000/24000 [==============================] - 1s 38us/sample - loss: 0.2924 - acc: 0.8420 - val_loss: 0.2798 - val_acc: 0.8597\n",
      "Epoch 16/30\n",
      "24000/24000 [==============================] - 1s 38us/sample - loss: 0.2792 - acc: 0.8568 - val_loss: 0.2623 - val_acc: 0.9090\n",
      "Epoch 17/30\n",
      "24000/24000 [==============================] - 1s 40us/sample - loss: 0.2593 - acc: 0.8733 - val_loss: 0.2380 - val_acc: 0.9133\n",
      "Epoch 18/30\n",
      "24000/24000 [==============================] - 1s 35us/sample - loss: 0.2419 - acc: 0.8834 - val_loss: 0.2639 - val_acc: 0.8927\n",
      "Epoch 19/30\n",
      "24000/24000 [==============================] - 1s 37us/sample - loss: 0.2262 - acc: 0.8949 - val_loss: 0.2172 - val_acc: 0.8965\n",
      "Epoch 20/30\n",
      "24000/24000 [==============================] - 1s 37us/sample - loss: 0.2074 - acc: 0.9065 - val_loss: 0.1798 - val_acc: 0.9275\n",
      "Epoch 21/30\n",
      "24000/24000 [==============================] - 1s 39us/sample - loss: 0.2004 - acc: 0.9127 - val_loss: 0.2319 - val_acc: 0.8972\n",
      "Epoch 22/30\n",
      "24000/24000 [==============================] - ETA: 0s - loss: 0.1921 - acc: 0.915 - 1s 38us/sample - loss: 0.1908 - acc: 0.9166 - val_loss: 0.1854 - val_acc: 0.9295\n",
      "Epoch 23/30\n",
      "24000/24000 [==============================] - 1s 38us/sample - loss: 0.1769 - acc: 0.9232 - val_loss: 0.1482 - val_acc: 0.9292\n",
      "Epoch 24/30\n",
      "24000/24000 [==============================] - 1s 35us/sample - loss: 0.1775 - acc: 0.9221 - val_loss: 0.1402 - val_acc: 0.9507\n",
      "Epoch 25/30\n",
      "24000/24000 [==============================] - 1s 37us/sample - loss: 0.1705 - acc: 0.9243 - val_loss: 0.1635 - val_acc: 0.9155\n",
      "Epoch 26/30\n",
      "24000/24000 [==============================] - 1s 37us/sample - loss: 0.1638 - acc: 0.9279 - val_loss: 0.1408 - val_acc: 0.9268\n",
      "Epoch 27/30\n",
      "24000/24000 [==============================] - 1s 38us/sample - loss: 0.1594 - acc: 0.9325 - val_loss: 0.1655 - val_acc: 0.9202\n",
      "Epoch 28/30\n",
      "24000/24000 [==============================] - 1s 36us/sample - loss: 0.1490 - acc: 0.9366 - val_loss: 0.1258 - val_acc: 0.9577\n",
      "Epoch 29/30\n",
      "24000/24000 [==============================] - 1s 38us/sample - loss: 0.1520 - acc: 0.9335 - val_loss: 0.1298 - val_acc: 0.9400\n",
      "Epoch 30/30\n",
      "24000/24000 [==============================] - 1s 38us/sample - loss: 0.1498 - acc: 0.9337 - val_loss: 0.1228 - val_acc: 0.9370\n"
     ]
    }
   ],
   "source": [
    "modelo = keras.Sequential([ \n",
    "    keras.layers.Dense(50, activation=tensorflow.nn.relu, input_shape=x.shape[1:]),\n",
    "    keras.layers.Dropout(0.2),\n",
    "    keras.layers.Dense(50, activation=tensorflow.nn.relu),\n",
    "    keras.layers.Dropout(0.2),\n",
    "    keras.layers.Dense(6, activation=tensorflow.nn.softmax)\n",
    "])\n",
    "\n",
    "modelo.compile(optimizer='adam', \n",
    "               loss='categorical_crossentropy',\n",
    "               metrics=['accuracy'])\n",
    "\n",
    "historico = modelo.fit(x, y, epochs=30, validation_split=0.2)"
   ]
  },
  {
   "cell_type": "markdown",
   "metadata": {},
   "source": [
    "### 'Plotando' dados de acurácia para avaliação do modelo"
   ]
  },
  {
   "cell_type": "code",
   "execution_count": 16,
   "metadata": {},
   "outputs": [
    {
     "data": {
      "text/plain": [
       "<matplotlib.legend.Legend at 0x25cf2f20908>"
      ]
     },
     "execution_count": 16,
     "metadata": {},
     "output_type": "execute_result"
    },
    {
     "data": {
      "image/png": "[encoded data removed]",
      "text/plain": [
       "<Figure size 432x288 with 1 Axes>"
      ]
     },
     "metadata": {
      "needs_background": "light"
     },
     "output_type": "display_data"
    }
   ],
   "source": [
    "plt.plot(historico.history['acc'])\n",
    "plt.plot(historico.history['val_acc'])\n",
    "plt.title('Acurácia por Epochs')\n",
    "plt.xlabel('Número de Epochs')\n",
    "plt.ylabel('Acurácia')\n",
    "plt.legend(['Treino', 'Validação'])"
   ]
  },
  {
   "cell_type": "markdown",
   "metadata": {},
   "source": [
    "### 'Plotando' dados da função de perda para avaliação do modelo"
   ]
  },
  {
   "cell_type": "code",
   "execution_count": 17,
   "metadata": {},
   "outputs": [
    {
     "data": {
      "text/plain": [
       "<matplotlib.legend.Legend at 0x25cf2ff6860>"
      ]
     },
     "execution_count": 17,
     "metadata": {},
     "output_type": "execute_result"
    },
    {
     "data": {
      "image/png": "[encoded data removed]",
      "text/plain": [
       "<Figure size 432x288 with 1 Axes>"
      ]
     },
     "metadata": {
      "needs_background": "light"
     },
     "output_type": "display_data"
    }
   ],
   "source": [
    "plt.plot(historico.history['loss'])\n",
    "plt.plot(historico.history['val_loss'])\n",
    "plt.title('Perda por Epochs')\n",
    "plt.xlabel('Epochs')\n",
    "plt.ylabel('Perda')\n",
    "plt.legend(['Treino', 'Validação'])"
   ]
  },
  {
   "cell_type": "markdown",
   "metadata": {},
   "source": [
    "### Salvando modelo para análises futura"
   ]
  },
  {
   "cell_type": "code",
   "execution_count": 18,
   "metadata": {},
   "outputs": [],
   "source": [
    "modelo.save('TccPUC')"
   ]
  }
 ],
 "metadata": {
  "kernelspec": {
   "display_name": "Python 3",
   "language": "python",
   "name": "python3"
  },
  "language_info": {
   "codemirror_mode": {
    "name": "ipython",
    "version": 3
   },
   "file_extension": ".py",
   "mimetype": "text/x-python",
   "name": "python",
   "nbconvert_exporter": "python",
   "pygments_lexer": "ipython3",
   "version": "3.7.0"
  }
 },
 "nbformat": 4,
 "nbformat_minor": 2
}
